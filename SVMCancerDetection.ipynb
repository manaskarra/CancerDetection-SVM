{
  "cells": [
    {
      "cell_type": "markdown",
      "id": "4f8dbbf9",
      "metadata": {
        "id": "4f8dbbf9"
      },
      "source": [
        "# Breast Cancer Prediction"
      ]
    },
    {
      "cell_type": "code",
      "source": [
        "!pip install ucimlrepo gradio"
      ],
      "metadata": {
        "id": "qw4CwYB3eIzf"
      },
      "id": "qw4CwYB3eIzf",
      "execution_count": null,
      "outputs": []
    },
    {
      "cell_type": "markdown",
      "id": "3af7659a",
      "metadata": {
        "id": "3af7659a"
      },
      "source": [
        "<h4> Importing all the necessary libraries </h4>"
      ]
    },
    {
      "cell_type": "code",
      "execution_count": null,
      "id": "84210963",
      "metadata": {
        "id": "84210963"
      },
      "outputs": [],
      "source": [
        "import numpy as np\n",
        "import matplotlib.pyplot as plt\n",
        "import pandas as pd\n",
        "from sklearn.datasets import load_breast_cancer\n",
        "from sklearn.model_selection import train_test_split\n",
        "from sklearn import metrics\n",
        "from xgboost import XGBClassifier\n",
        "from sklearn.model_selection import cross_validate\n",
        "from sklearn.ensemble import RandomForestClassifier\n",
        "from sklearn.neighbors import KNeighborsClassifier\n",
        "from sklearn.preprocessing import StandardScaler\n",
        "from sklearn import svm\n",
        "from sklearn.naive_bayes import GaussianNB\n",
        "\n",
        "# Necessary imports for GUI done by using gradio\n",
        "from ucimlrepo import fetch_ucirepo\n",
        "import gradio as gr"
      ]
    },
    {
      "cell_type": "markdown",
      "id": "afa7ebe2",
      "metadata": {
        "id": "afa7ebe2"
      },
      "source": [
        "<h4>Importing the data from data.csv into pandas DataFrame</h4>"
      ]
    },
    {
      "cell_type": "code",
      "execution_count": null,
      "id": "b9912b74",
      "metadata": {
        "id": "b9912b74"
      },
      "outputs": [],
      "source": [
        "data = pd.read_csv('/content/data.csv')"
      ]
    },
    {
      "cell_type": "markdown",
      "id": "665f40f4",
      "metadata": {
        "id": "665f40f4"
      },
      "source": [
        "<h4>Data Preprocessing</h4>"
      ]
    },
    {
      "cell_type": "code",
      "execution_count": null,
      "id": "8b27c6cf",
      "metadata": {
        "id": "8b27c6cf"
      },
      "outputs": [],
      "source": [
        "data = data.drop(data.columns[0],axis=1)\n",
        "data = data.drop(data.columns[31],axis=1)\n",
        "data['diagnosis'] = data['diagnosis'].map({'M': 1, 'B': 0})\n",
        "x = data.loc[:, data.columns != 'diagnosis'].values\n",
        "y = data.loc[:, 'diagnosis'].values"
      ]
    },
    {
      "cell_type": "markdown",
      "id": "52977a1f",
      "metadata": {
        "id": "52977a1f"
      },
      "source": [
        "<h4>Scaling the Data using StandardScalar library</h4>"
      ]
    },
    {
      "cell_type": "code",
      "execution_count": null,
      "id": "a8e4abe2",
      "metadata": {
        "id": "a8e4abe2"
      },
      "outputs": [],
      "source": [
        "sc_X = StandardScaler()\n",
        "X = sc_X.fit_transform(x)"
      ]
    },
    {
      "cell_type": "markdown",
      "source": [
        "## Hyperparameter Tuning"
      ],
      "metadata": {
        "id": "iF_NxZyQbobk"
      },
      "id": "iF_NxZyQbobk"
    },
    {
      "cell_type": "code",
      "source": [
        "# Perform Grid Search for SVM hyperparameter tuning\n",
        "from sklearn.model_selection import GridSearchCV\n",
        "param_grid = {\n",
        "    'C': [0.1, 1, 10, 100],\n",
        "    'kernel': ['linear', 'rbf', 'poly', 'sigmoid'],\n",
        "    'gamma': ['scale', 'auto']\n",
        "}\n",
        "grid_search = GridSearchCV(svm.SVC(), param_grid, scoring='accuracy', cv=5)\n",
        "grid_search.fit(X, y)\n",
        "best_svm = grid_search.best_estimator_\n",
        "print(\"Best Hyperparameters for SVM:\", grid_search.best_params_)\n",
        "svm_cl = best_svm"
      ],
      "metadata": {
        "colab": {
          "base_uri": "https://localhost:8080/"
        },
        "id": "FStRdhyMfvlV",
        "outputId": "7e091c1e-6b30-4fbd-a0f1-14e5e987a693"
      },
      "id": "FStRdhyMfvlV",
      "execution_count": null,
      "outputs": [
        {
          "output_type": "stream",
          "name": "stdout",
          "text": [
            "Best Hyperparameters for SVM: {'C': 10, 'gamma': 'scale', 'kernel': 'rbf'}\n"
          ]
        }
      ]
    },
    {
      "cell_type": "markdown",
      "id": "156261ef",
      "metadata": {
        "id": "156261ef"
      },
      "source": [
        "<h4>Initialising all the classifiers</h4>"
      ]
    },
    {
      "cell_type": "code",
      "execution_count": null,
      "id": "1f76b0c5",
      "metadata": {
        "id": "1f76b0c5"
      },
      "outputs": [],
      "source": [
        "knn_cl = KNeighborsClassifier(n_neighbors=23, p=2, metric='euclidean')\n",
        "model = XGBClassifier(use_label_encoder=False, eval_metric='mlogloss')\n",
        "clf = RandomForestClassifier(max_depth=2, random_state=0)\n",
        "svm_cl = svm.SVC(kernel='rbf', gamma='auto', C=1)\n",
        "nb_cl = GaussianNB()"
      ]
    },
    {
      "cell_type": "markdown",
      "id": "08f2fa59",
      "metadata": {
        "id": "08f2fa59"
      },
      "source": [
        "<h4>Cross Validation (5 folds)</h4>"
      ]
    },
    {
      "cell_type": "code",
      "execution_count": null,
      "id": "519ff418",
      "metadata": {
        "id": "519ff418"
      },
      "outputs": [],
      "source": [
        "scoring = ['accuracy','precision','f1','recall']\n",
        "scores1 = cross_validate(model, X, y, scoring=scoring)\n",
        "scores2 = cross_validate(clf, X, y, scoring=scoring)\n",
        "scores3 = cross_validate(knn_cl, X, y, scoring=scoring)\n",
        "scores4 = cross_validate(svm_cl, X, y, scoring=scoring)\n",
        "scores5 = cross_validate(nb_cl, X, y, scoring=scoring)"
      ]
    },
    {
      "cell_type": "markdown",
      "id": "5e8236ef",
      "metadata": {
        "id": "5e8236ef"
      },
      "source": [
        "<h4>Fitting the dataset to the model</h4>"
      ]
    },
    {
      "cell_type": "code",
      "execution_count": null,
      "id": "762344fd",
      "metadata": {
        "colab": {
          "base_uri": "https://localhost:8080/",
          "height": 148
        },
        "id": "762344fd",
        "outputId": "6beab727-2f36-4fc8-d794-8b9ce89a12da"
      },
      "outputs": [
        {
          "output_type": "stream",
          "name": "stderr",
          "text": [
            "/usr/local/lib/python3.10/dist-packages/xgboost/core.py:158: UserWarning: [10:40:12] WARNING: /workspace/src/learner.cc:740: \n",
            "Parameters: { \"use_label_encoder\" } are not used.\n",
            "\n",
            "  warnings.warn(smsg, UserWarning)\n"
          ]
        },
        {
          "output_type": "execute_result",
          "data": {
            "text/plain": [
              "GaussianNB()"
            ],
            "text/html": [
              "<style>#sk-container-id-1 {\n",
              "  /* Definition of color scheme common for light and dark mode */\n",
              "  --sklearn-color-text: black;\n",
              "  --sklearn-color-line: gray;\n",
              "  /* Definition of color scheme for unfitted estimators */\n",
              "  --sklearn-color-unfitted-level-0: #fff5e6;\n",
              "  --sklearn-color-unfitted-level-1: #f6e4d2;\n",
              "  --sklearn-color-unfitted-level-2: #ffe0b3;\n",
              "  --sklearn-color-unfitted-level-3: chocolate;\n",
              "  /* Definition of color scheme for fitted estimators */\n",
              "  --sklearn-color-fitted-level-0: #f0f8ff;\n",
              "  --sklearn-color-fitted-level-1: #d4ebff;\n",
              "  --sklearn-color-fitted-level-2: #b3dbfd;\n",
              "  --sklearn-color-fitted-level-3: cornflowerblue;\n",
              "\n",
              "  /* Specific color for light theme */\n",
              "  --sklearn-color-text-on-default-background: var(--sg-text-color, var(--theme-code-foreground, var(--jp-content-font-color1, black)));\n",
              "  --sklearn-color-background: var(--sg-background-color, var(--theme-background, var(--jp-layout-color0, white)));\n",
              "  --sklearn-color-border-box: var(--sg-text-color, var(--theme-code-foreground, var(--jp-content-font-color1, black)));\n",
              "  --sklearn-color-icon: #696969;\n",
              "\n",
              "  @media (prefers-color-scheme: dark) {\n",
              "    /* Redefinition of color scheme for dark theme */\n",
              "    --sklearn-color-text-on-default-background: var(--sg-text-color, var(--theme-code-foreground, var(--jp-content-font-color1, white)));\n",
              "    --sklearn-color-background: var(--sg-background-color, var(--theme-background, var(--jp-layout-color0, #111)));\n",
              "    --sklearn-color-border-box: var(--sg-text-color, var(--theme-code-foreground, var(--jp-content-font-color1, white)));\n",
              "    --sklearn-color-icon: #878787;\n",
              "  }\n",
              "}\n",
              "\n",
              "#sk-container-id-1 {\n",
              "  color: var(--sklearn-color-text);\n",
              "}\n",
              "\n",
              "#sk-container-id-1 pre {\n",
              "  padding: 0;\n",
              "}\n",
              "\n",
              "#sk-container-id-1 input.sk-hidden--visually {\n",
              "  border: 0;\n",
              "  clip: rect(1px 1px 1px 1px);\n",
              "  clip: rect(1px, 1px, 1px, 1px);\n",
              "  height: 1px;\n",
              "  margin: -1px;\n",
              "  overflow: hidden;\n",
              "  padding: 0;\n",
              "  position: absolute;\n",
              "  width: 1px;\n",
              "}\n",
              "\n",
              "#sk-container-id-1 div.sk-dashed-wrapped {\n",
              "  border: 1px dashed var(--sklearn-color-line);\n",
              "  margin: 0 0.4em 0.5em 0.4em;\n",
              "  box-sizing: border-box;\n",
              "  padding-bottom: 0.4em;\n",
              "  background-color: var(--sklearn-color-background);\n",
              "}\n",
              "\n",
              "#sk-container-id-1 div.sk-container {\n",
              "  /* jupyter's `normalize.less` sets `[hidden] { display: none; }`\n",
              "     but bootstrap.min.css set `[hidden] { display: none !important; }`\n",
              "     so we also need the `!important` here to be able to override the\n",
              "     default hidden behavior on the sphinx rendered scikit-learn.org.\n",
              "     See: https://github.com/scikit-learn/scikit-learn/issues/21755 */\n",
              "  display: inline-block !important;\n",
              "  position: relative;\n",
              "}\n",
              "\n",
              "#sk-container-id-1 div.sk-text-repr-fallback {\n",
              "  display: none;\n",
              "}\n",
              "\n",
              "div.sk-parallel-item,\n",
              "div.sk-serial,\n",
              "div.sk-item {\n",
              "  /* draw centered vertical line to link estimators */\n",
              "  background-image: linear-gradient(var(--sklearn-color-text-on-default-background), var(--sklearn-color-text-on-default-background));\n",
              "  background-size: 2px 100%;\n",
              "  background-repeat: no-repeat;\n",
              "  background-position: center center;\n",
              "}\n",
              "\n",
              "/* Parallel-specific style estimator block */\n",
              "\n",
              "#sk-container-id-1 div.sk-parallel-item::after {\n",
              "  content: \"\";\n",
              "  width: 100%;\n",
              "  border-bottom: 2px solid var(--sklearn-color-text-on-default-background);\n",
              "  flex-grow: 1;\n",
              "}\n",
              "\n",
              "#sk-container-id-1 div.sk-parallel {\n",
              "  display: flex;\n",
              "  align-items: stretch;\n",
              "  justify-content: center;\n",
              "  background-color: var(--sklearn-color-background);\n",
              "  position: relative;\n",
              "}\n",
              "\n",
              "#sk-container-id-1 div.sk-parallel-item {\n",
              "  display: flex;\n",
              "  flex-direction: column;\n",
              "}\n",
              "\n",
              "#sk-container-id-1 div.sk-parallel-item:first-child::after {\n",
              "  align-self: flex-end;\n",
              "  width: 50%;\n",
              "}\n",
              "\n",
              "#sk-container-id-1 div.sk-parallel-item:last-child::after {\n",
              "  align-self: flex-start;\n",
              "  width: 50%;\n",
              "}\n",
              "\n",
              "#sk-container-id-1 div.sk-parallel-item:only-child::after {\n",
              "  width: 0;\n",
              "}\n",
              "\n",
              "/* Serial-specific style estimator block */\n",
              "\n",
              "#sk-container-id-1 div.sk-serial {\n",
              "  display: flex;\n",
              "  flex-direction: column;\n",
              "  align-items: center;\n",
              "  background-color: var(--sklearn-color-background);\n",
              "  padding-right: 1em;\n",
              "  padding-left: 1em;\n",
              "}\n",
              "\n",
              "\n",
              "/* Toggleable style: style used for estimator/Pipeline/ColumnTransformer box that is\n",
              "clickable and can be expanded/collapsed.\n",
              "- Pipeline and ColumnTransformer use this feature and define the default style\n",
              "- Estimators will overwrite some part of the style using the `sk-estimator` class\n",
              "*/\n",
              "\n",
              "/* Pipeline and ColumnTransformer style (default) */\n",
              "\n",
              "#sk-container-id-1 div.sk-toggleable {\n",
              "  /* Default theme specific background. It is overwritten whether we have a\n",
              "  specific estimator or a Pipeline/ColumnTransformer */\n",
              "  background-color: var(--sklearn-color-background);\n",
              "}\n",
              "\n",
              "/* Toggleable label */\n",
              "#sk-container-id-1 label.sk-toggleable__label {\n",
              "  cursor: pointer;\n",
              "  display: block;\n",
              "  width: 100%;\n",
              "  margin-bottom: 0;\n",
              "  padding: 0.5em;\n",
              "  box-sizing: border-box;\n",
              "  text-align: center;\n",
              "}\n",
              "\n",
              "#sk-container-id-1 label.sk-toggleable__label-arrow:before {\n",
              "  /* Arrow on the left of the label */\n",
              "  content: \"▸\";\n",
              "  float: left;\n",
              "  margin-right: 0.25em;\n",
              "  color: var(--sklearn-color-icon);\n",
              "}\n",
              "\n",
              "#sk-container-id-1 label.sk-toggleable__label-arrow:hover:before {\n",
              "  color: var(--sklearn-color-text);\n",
              "}\n",
              "\n",
              "/* Toggleable content - dropdown */\n",
              "\n",
              "#sk-container-id-1 div.sk-toggleable__content {\n",
              "  max-height: 0;\n",
              "  max-width: 0;\n",
              "  overflow: hidden;\n",
              "  text-align: left;\n",
              "  /* unfitted */\n",
              "  background-color: var(--sklearn-color-unfitted-level-0);\n",
              "}\n",
              "\n",
              "#sk-container-id-1 div.sk-toggleable__content.fitted {\n",
              "  /* fitted */\n",
              "  background-color: var(--sklearn-color-fitted-level-0);\n",
              "}\n",
              "\n",
              "#sk-container-id-1 div.sk-toggleable__content pre {\n",
              "  margin: 0.2em;\n",
              "  border-radius: 0.25em;\n",
              "  color: var(--sklearn-color-text);\n",
              "  /* unfitted */\n",
              "  background-color: var(--sklearn-color-unfitted-level-0);\n",
              "}\n",
              "\n",
              "#sk-container-id-1 div.sk-toggleable__content.fitted pre {\n",
              "  /* unfitted */\n",
              "  background-color: var(--sklearn-color-fitted-level-0);\n",
              "}\n",
              "\n",
              "#sk-container-id-1 input.sk-toggleable__control:checked~div.sk-toggleable__content {\n",
              "  /* Expand drop-down */\n",
              "  max-height: 200px;\n",
              "  max-width: 100%;\n",
              "  overflow: auto;\n",
              "}\n",
              "\n",
              "#sk-container-id-1 input.sk-toggleable__control:checked~label.sk-toggleable__label-arrow:before {\n",
              "  content: \"▾\";\n",
              "}\n",
              "\n",
              "/* Pipeline/ColumnTransformer-specific style */\n",
              "\n",
              "#sk-container-id-1 div.sk-label input.sk-toggleable__control:checked~label.sk-toggleable__label {\n",
              "  color: var(--sklearn-color-text);\n",
              "  background-color: var(--sklearn-color-unfitted-level-2);\n",
              "}\n",
              "\n",
              "#sk-container-id-1 div.sk-label.fitted input.sk-toggleable__control:checked~label.sk-toggleable__label {\n",
              "  background-color: var(--sklearn-color-fitted-level-2);\n",
              "}\n",
              "\n",
              "/* Estimator-specific style */\n",
              "\n",
              "/* Colorize estimator box */\n",
              "#sk-container-id-1 div.sk-estimator input.sk-toggleable__control:checked~label.sk-toggleable__label {\n",
              "  /* unfitted */\n",
              "  background-color: var(--sklearn-color-unfitted-level-2);\n",
              "}\n",
              "\n",
              "#sk-container-id-1 div.sk-estimator.fitted input.sk-toggleable__control:checked~label.sk-toggleable__label {\n",
              "  /* fitted */\n",
              "  background-color: var(--sklearn-color-fitted-level-2);\n",
              "}\n",
              "\n",
              "#sk-container-id-1 div.sk-label label.sk-toggleable__label,\n",
              "#sk-container-id-1 div.sk-label label {\n",
              "  /* The background is the default theme color */\n",
              "  color: var(--sklearn-color-text-on-default-background);\n",
              "}\n",
              "\n",
              "/* On hover, darken the color of the background */\n",
              "#sk-container-id-1 div.sk-label:hover label.sk-toggleable__label {\n",
              "  color: var(--sklearn-color-text);\n",
              "  background-color: var(--sklearn-color-unfitted-level-2);\n",
              "}\n",
              "\n",
              "/* Label box, darken color on hover, fitted */\n",
              "#sk-container-id-1 div.sk-label.fitted:hover label.sk-toggleable__label.fitted {\n",
              "  color: var(--sklearn-color-text);\n",
              "  background-color: var(--sklearn-color-fitted-level-2);\n",
              "}\n",
              "\n",
              "/* Estimator label */\n",
              "\n",
              "#sk-container-id-1 div.sk-label label {\n",
              "  font-family: monospace;\n",
              "  font-weight: bold;\n",
              "  display: inline-block;\n",
              "  line-height: 1.2em;\n",
              "}\n",
              "\n",
              "#sk-container-id-1 div.sk-label-container {\n",
              "  text-align: center;\n",
              "}\n",
              "\n",
              "/* Estimator-specific */\n",
              "#sk-container-id-1 div.sk-estimator {\n",
              "  font-family: monospace;\n",
              "  border: 1px dotted var(--sklearn-color-border-box);\n",
              "  border-radius: 0.25em;\n",
              "  box-sizing: border-box;\n",
              "  margin-bottom: 0.5em;\n",
              "  /* unfitted */\n",
              "  background-color: var(--sklearn-color-unfitted-level-0);\n",
              "}\n",
              "\n",
              "#sk-container-id-1 div.sk-estimator.fitted {\n",
              "  /* fitted */\n",
              "  background-color: var(--sklearn-color-fitted-level-0);\n",
              "}\n",
              "\n",
              "/* on hover */\n",
              "#sk-container-id-1 div.sk-estimator:hover {\n",
              "  /* unfitted */\n",
              "  background-color: var(--sklearn-color-unfitted-level-2);\n",
              "}\n",
              "\n",
              "#sk-container-id-1 div.sk-estimator.fitted:hover {\n",
              "  /* fitted */\n",
              "  background-color: var(--sklearn-color-fitted-level-2);\n",
              "}\n",
              "\n",
              "/* Specification for estimator info (e.g. \"i\" and \"?\") */\n",
              "\n",
              "/* Common style for \"i\" and \"?\" */\n",
              "\n",
              ".sk-estimator-doc-link,\n",
              "a:link.sk-estimator-doc-link,\n",
              "a:visited.sk-estimator-doc-link {\n",
              "  float: right;\n",
              "  font-size: smaller;\n",
              "  line-height: 1em;\n",
              "  font-family: monospace;\n",
              "  background-color: var(--sklearn-color-background);\n",
              "  border-radius: 1em;\n",
              "  height: 1em;\n",
              "  width: 1em;\n",
              "  text-decoration: none !important;\n",
              "  margin-left: 1ex;\n",
              "  /* unfitted */\n",
              "  border: var(--sklearn-color-unfitted-level-1) 1pt solid;\n",
              "  color: var(--sklearn-color-unfitted-level-1);\n",
              "}\n",
              "\n",
              ".sk-estimator-doc-link.fitted,\n",
              "a:link.sk-estimator-doc-link.fitted,\n",
              "a:visited.sk-estimator-doc-link.fitted {\n",
              "  /* fitted */\n",
              "  border: var(--sklearn-color-fitted-level-1) 1pt solid;\n",
              "  color: var(--sklearn-color-fitted-level-1);\n",
              "}\n",
              "\n",
              "/* On hover */\n",
              "div.sk-estimator:hover .sk-estimator-doc-link:hover,\n",
              ".sk-estimator-doc-link:hover,\n",
              "div.sk-label-container:hover .sk-estimator-doc-link:hover,\n",
              ".sk-estimator-doc-link:hover {\n",
              "  /* unfitted */\n",
              "  background-color: var(--sklearn-color-unfitted-level-3);\n",
              "  color: var(--sklearn-color-background);\n",
              "  text-decoration: none;\n",
              "}\n",
              "\n",
              "div.sk-estimator.fitted:hover .sk-estimator-doc-link.fitted:hover,\n",
              ".sk-estimator-doc-link.fitted:hover,\n",
              "div.sk-label-container:hover .sk-estimator-doc-link.fitted:hover,\n",
              ".sk-estimator-doc-link.fitted:hover {\n",
              "  /* fitted */\n",
              "  background-color: var(--sklearn-color-fitted-level-3);\n",
              "  color: var(--sklearn-color-background);\n",
              "  text-decoration: none;\n",
              "}\n",
              "\n",
              "/* Span, style for the box shown on hovering the info icon */\n",
              ".sk-estimator-doc-link span {\n",
              "  display: none;\n",
              "  z-index: 9999;\n",
              "  position: relative;\n",
              "  font-weight: normal;\n",
              "  right: .2ex;\n",
              "  padding: .5ex;\n",
              "  margin: .5ex;\n",
              "  width: min-content;\n",
              "  min-width: 20ex;\n",
              "  max-width: 50ex;\n",
              "  color: var(--sklearn-color-text);\n",
              "  box-shadow: 2pt 2pt 4pt #999;\n",
              "  /* unfitted */\n",
              "  background: var(--sklearn-color-unfitted-level-0);\n",
              "  border: .5pt solid var(--sklearn-color-unfitted-level-3);\n",
              "}\n",
              "\n",
              ".sk-estimator-doc-link.fitted span {\n",
              "  /* fitted */\n",
              "  background: var(--sklearn-color-fitted-level-0);\n",
              "  border: var(--sklearn-color-fitted-level-3);\n",
              "}\n",
              "\n",
              ".sk-estimator-doc-link:hover span {\n",
              "  display: block;\n",
              "}\n",
              "\n",
              "/* \"?\"-specific style due to the `<a>` HTML tag */\n",
              "\n",
              "#sk-container-id-1 a.estimator_doc_link {\n",
              "  float: right;\n",
              "  font-size: 1rem;\n",
              "  line-height: 1em;\n",
              "  font-family: monospace;\n",
              "  background-color: var(--sklearn-color-background);\n",
              "  border-radius: 1rem;\n",
              "  height: 1rem;\n",
              "  width: 1rem;\n",
              "  text-decoration: none;\n",
              "  /* unfitted */\n",
              "  color: var(--sklearn-color-unfitted-level-1);\n",
              "  border: var(--sklearn-color-unfitted-level-1) 1pt solid;\n",
              "}\n",
              "\n",
              "#sk-container-id-1 a.estimator_doc_link.fitted {\n",
              "  /* fitted */\n",
              "  border: var(--sklearn-color-fitted-level-1) 1pt solid;\n",
              "  color: var(--sklearn-color-fitted-level-1);\n",
              "}\n",
              "\n",
              "/* On hover */\n",
              "#sk-container-id-1 a.estimator_doc_link:hover {\n",
              "  /* unfitted */\n",
              "  background-color: var(--sklearn-color-unfitted-level-3);\n",
              "  color: var(--sklearn-color-background);\n",
              "  text-decoration: none;\n",
              "}\n",
              "\n",
              "#sk-container-id-1 a.estimator_doc_link.fitted:hover {\n",
              "  /* fitted */\n",
              "  background-color: var(--sklearn-color-fitted-level-3);\n",
              "}\n",
              "</style><div id=\"sk-container-id-1\" class=\"sk-top-container\"><div class=\"sk-text-repr-fallback\"><pre>GaussianNB()</pre><b>In a Jupyter environment, please rerun this cell to show the HTML representation or trust the notebook. <br />On GitHub, the HTML representation is unable to render, please try loading this page with nbviewer.org.</b></div><div class=\"sk-container\" hidden><div class=\"sk-item\"><div class=\"sk-estimator fitted sk-toggleable\"><input class=\"sk-toggleable__control sk-hidden--visually\" id=\"sk-estimator-id-1\" type=\"checkbox\" checked><label for=\"sk-estimator-id-1\" class=\"sk-toggleable__label fitted sk-toggleable__label-arrow fitted\">&nbsp;&nbsp;GaussianNB<a class=\"sk-estimator-doc-link fitted\" rel=\"noreferrer\" target=\"_blank\" href=\"https://scikit-learn.org/1.5/modules/generated/sklearn.naive_bayes.GaussianNB.html\">?<span>Documentation for GaussianNB</span></a><span class=\"sk-estimator-doc-link fitted\">i<span>Fitted</span></span></label><div class=\"sk-toggleable__content fitted\"><pre>GaussianNB()</pre></div> </div></div></div></div>"
            ]
          },
          "metadata": {},
          "execution_count": 10
        }
      ],
      "source": [
        "model.fit(X, y)\n",
        "clf.fit(X,y)\n",
        "knn_cl.fit(X, y)\n",
        "svm_cl.fit(X, y)\n",
        "nb_cl.fit(X, y)"
      ]
    },
    {
      "cell_type": "markdown",
      "id": "30333ecc",
      "metadata": {
        "id": "30333ecc"
      },
      "source": [
        "<h4>Calculation of evaluation metrics</h4>"
      ]
    },
    {
      "cell_type": "code",
      "execution_count": null,
      "id": "64d1cf1c",
      "metadata": {
        "id": "64d1cf1c"
      },
      "outputs": [],
      "source": [
        "label_arr = ['XGB','RF','KNN','SVM','NB']\n",
        "acc_arr = [round(scores1['test_accuracy'].mean(),3),round(scores2['test_accuracy'].mean(),3),round(scores3['test_accuracy'].mean(),3),\n",
        "           round(scores4['test_accuracy'].mean(),3),round(scores5['test_accuracy'].mean(),3)]\n",
        "prec_arr = [round(scores1['test_precision'].mean(),3),round(scores2['test_precision'].mean(),3),round(scores3['test_precision'].mean(),3),\n",
        "           round(scores4['test_precision'].mean(),3),round(scores5['test_precision'].mean(),3)]\n",
        "f1_arr = [round(scores1['test_f1'].mean(),3),round(scores2['test_f1'].mean(),3),round(scores3['test_f1'].mean(),3),\n",
        "           round(scores4['test_f1'].mean(),3),round(scores5['test_f1'].mean(),3)]\n",
        "rec_arr = [round(scores1['test_recall'].mean(),3),round(scores2['test_recall'].mean(),3),round(scores3['test_recall'].mean(),3),\n",
        "           round(scores4['test_recall'].mean(),3),round(scores5['test_recall'].mean(),3)]"
      ]
    },
    {
      "cell_type": "markdown",
      "id": "a20956ee",
      "metadata": {
        "id": "a20956ee"
      },
      "source": [
        "<h4>Printing accuracy values for each model</h4>"
      ]
    },
    {
      "cell_type": "code",
      "execution_count": null,
      "id": "cda0ef8e",
      "metadata": {
        "colab": {
          "base_uri": "https://localhost:8080/"
        },
        "id": "cda0ef8e",
        "outputId": "8330b06a-d425-4f9a-f75a-008401f349b4"
      },
      "outputs": [
        {
          "output_type": "stream",
          "name": "stdout",
          "text": [
            "0.9701288619779538\n",
            "\n",
            "\n",
            "0.9490607048594939\n",
            "\n",
            "\n",
            "0.9543393882937432\n",
            "\n",
            "\n",
            "0.9736376339077782\n",
            "\n",
            "\n",
            "0.927930445582984\n",
            "\n",
            "\n"
          ]
        }
      ],
      "source": [
        "print(scores1['test_accuracy'].mean())\n",
        "print(\"\\n\")\n",
        "print(scores2['test_accuracy'].mean())\n",
        "print(\"\\n\")\n",
        "print(scores3['test_accuracy'].mean())\n",
        "print(\"\\n\")\n",
        "print(scores4['test_accuracy'].mean())\n",
        "print(\"\\n\")\n",
        "print(scores5['test_accuracy'].mean())\n",
        "print(\"\\n\")"
      ]
    },
    {
      "cell_type": "markdown",
      "id": "e994d104",
      "metadata": {
        "id": "e994d104"
      },
      "source": [
        "# GUI"
      ]
    },
    {
      "cell_type": "markdown",
      "id": "146cf4b9",
      "metadata": {
        "id": "146cf4b9"
      },
      "source": [
        "<h4>DECLARING FUNCTION FOR GRAPH</h4>"
      ]
    },
    {
      "cell_type": "code",
      "execution_count": null,
      "id": "9bf3ecff",
      "metadata": {
        "id": "9bf3ecff"
      },
      "outputs": [],
      "source": [
        "def make_plot(plot_type):\n",
        "    labels = list(label_arr)\n",
        "    if plot_type == \"Accuracy\":\n",
        "        values = list(acc_arr)\n",
        "\n",
        "        plt.bar(labels, values, color ='yellow',\n",
        "                width = 0.7)\n",
        "        for i in range(len(labels)):\n",
        "            plt.text(i,values[i]/2,values[i],ha = 'center')\n",
        "        plt.xlabel(\"MODEL\")\n",
        "        plt.ylabel(\"Accuracy\")\n",
        "        plt.title(\"Accuracy of different models\")\n",
        "        plt.show()\n",
        "    elif plot_type == \"Precision\":\n",
        "        values = list(prec_arr)\n",
        "        plt.bar(labels, values, color ='yellow',\n",
        "                width = 0.7)\n",
        "        for i in range(len(labels)):\n",
        "            plt.text(i,values[i]/2,values[i],ha = 'center')\n",
        "        plt.xlabel(\"MODEL\")\n",
        "        plt.ylabel(\"Precision\")\n",
        "        plt.title(\"Precision of different models\")\n",
        "        plt.show()\n",
        "    elif plot_type == \"F1\":\n",
        "        values = list(f1_arr)\n",
        "        plt.bar(labels, values, color ='yellow',\n",
        "                width = 0.7)\n",
        "        for i in range(len(labels)):\n",
        "            plt.text(i,values[i]/2,values[i],ha = 'center')\n",
        "        plt.xlabel(\"MODEL\")\n",
        "        plt.ylabel(\"F1 score\")\n",
        "        plt.title(\"F1 score of different models\")\n",
        "        plt.show()\n",
        "    elif plot_type == \"Recall\":\n",
        "        values = list(rec_arr)\n",
        "        plt.bar(labels, values, color ='yellow',\n",
        "                width = 0.7)\n",
        "        for i in range(len(labels)):\n",
        "            plt.text(i,values[i]/2,values[i],ha = 'center')\n",
        "        plt.xlabel(\"MODEL\")\n",
        "        plt.ylabel(\"F1 score\")\n",
        "        plt.title(\"F1 score of different models\")\n",
        "        plt.show()\n",
        "    return plt"
      ]
    },
    {
      "cell_type": "markdown",
      "id": "98b1b579",
      "metadata": {
        "id": "98b1b579"
      },
      "source": [
        "<h4>DECLARING FUNCTION FOR PREDICTION</h4>"
      ]
    },
    {
      "cell_type": "code",
      "execution_count": null,
      "id": "c60badaf",
      "metadata": {
        "id": "c60badaf"
      },
      "outputs": [],
      "source": [
        "def calc_xgb(radius_mean,texture_mean,perimeter_mean,area_mean,smoothness_mean,compactness_mean,concavity_mean,concave_points_mean,\n",
        "        symmetry_mean,fractal_dimension_mean,radius_se,texture_se,perimeter_se,area_se,smoothness_se,compactness_se,concavity_se,\n",
        "         concave_points_se,symmetry_se,fractal_dimension_se,radius_worst,texture_worst,perimeter_worst,area_worst,smoothness_worst,\n",
        "         compactness_worst,concavity_worst,concave_points_worst,symmetry_worst,fractal_dimension_worst):\n",
        "    x_arr = [radius_mean,texture_mean,perimeter_mean,area_mean,smoothness_mean,compactness_mean,concavity_mean,concave_points_mean,\n",
        "        symmetry_mean,fractal_dimension_mean,radius_se,texture_se,perimeter_se,area_se,smoothness_se,compactness_se,concavity_se,\n",
        "         concave_points_se,symmetry_se,fractal_dimension_se,radius_worst,texture_worst,perimeter_worst,area_worst,smoothness_worst,\n",
        "         compactness_worst,concavity_worst,concave_points_worst,symmetry_worst,fractal_dimension_worst]\n",
        "    pred = svm_cl.predict(np.array(x_arr).reshape(1,30))\n",
        "    if pred[0] == 1:\n",
        "        return 'Malignant Tumor'\n",
        "    else:\n",
        "        return 'Benign Tumor'"
      ]
    },
    {
      "cell_type": "markdown",
      "id": "302d0eef",
      "metadata": {
        "id": "302d0eef"
      },
      "source": [
        "<h4>PREDICTION AND GRAPH TAB</h4>"
      ]
    },
    {
      "cell_type": "code",
      "execution_count": null,
      "id": "d73b9fff",
      "metadata": {
        "colab": {
          "base_uri": "https://localhost:8080/",
          "height": 643
        },
        "id": "d73b9fff",
        "outputId": "9f31dcc0-bc87-4933-e2e5-b11b3cad871a"
      },
      "outputs": [
        {
          "output_type": "stream",
          "name": "stdout",
          "text": [
            "Running Gradio in a Colab notebook requires sharing enabled. Automatically setting `share=True` (you can turn this off by setting `share=False` in `launch()` explicitly).\n",
            "\n",
            "Colab notebook detected. To show errors in colab notebook, set debug=True in launch()\n",
            "* Running on public URL: https://1774a8ccb93e65594e.gradio.live\n",
            "\n",
            "This share link expires in 72 hours. For free permanent hosting and GPU upgrades, run `gradio deploy` from the terminal in the working directory to deploy to Hugging Face Spaces (https://huggingface.co/spaces)\n"
          ]
        },
        {
          "output_type": "display_data",
          "data": {
            "text/plain": [
              "<IPython.core.display.HTML object>"
            ],
            "text/html": [
              "<div><iframe src=\"https://1774a8ccb93e65594e.gradio.live\" width=\"100%\" height=\"500\" allow=\"autoplay; camera; microphone; clipboard-read; clipboard-write;\" frameborder=\"0\" allowfullscreen></iframe></div>"
            ]
          },
          "metadata": {}
        },
        {
          "output_type": "execute_result",
          "data": {
            "text/plain": []
          },
          "metadata": {},
          "execution_count": 16
        }
      ],
      "source": [
        "with gr.Blocks() as demo:\n",
        "    gr.Markdown(\"CHECK IF BREAST TUMOR IS MALIGNANT OR BENIGN\")\n",
        "    with gr.Tab(\"SVM\"):\n",
        "        with gr.Row():\n",
        "            radius_mean=gr.Number(label=\"Radius Mean(μm)\" )\n",
        "            radius_se=gr.Number(label=\"Radius SE (μm)\" )\n",
        "            radius_worst=gr.Number(label=\"Radius Worst (μm)\" )\n",
        "\n",
        "        with gr.Row():\n",
        "            texture_mean=gr.Number(label=\"Texture Mean (nm) \" )\n",
        "            texture_se=gr.Number(label=\"Texture SE (nm) \" )\n",
        "            texture_worst=gr.Number(label=\"Texture Worst (nm) \" )\n",
        "\n",
        "        with gr.Row():\n",
        "            perimeter_mean=gr.Number(label=\"Perimeter Mean (μm)\" )\n",
        "            perimeter_se=gr.Number(label=\"Perimeter SE (μm)\" )\n",
        "            perimeter_worst=gr.Number(label=\"Perimeter Worst (μm)\" )\n",
        "        with gr.Row():\n",
        "            area_mean=gr.Number(label=\"Area Mean (sq.μm)\" )\n",
        "            area_se=gr.Number(label=\"Area SE (sq.μm)\" )\n",
        "            area_worst=gr.Number(label=\"Area Worst (sq.μm)\" )\n",
        "\n",
        "        with gr.Row():\n",
        "            smoothness_mean=gr.Number(label=\"Smoothness Mean (nm)\" )\n",
        "            smoothness_se=gr.Number(label=\"Smoothness SE (nm)\")\n",
        "            smoothness_worst=gr.Number(label=\"Smoothness Worst (nm)\")\n",
        "        with gr.Row():\n",
        "            compactness_mean=gr.Number(label=\"Compactness Mean (nm)\")\n",
        "            compactness_se=gr.Number(label=\"Compactness SE (nm)\")\n",
        "            compactness_worst=gr.Number(label=\"Compactness Worst (nm)\")\n",
        "\n",
        "        with gr.Row():\n",
        "            concavity_mean=gr.Number(label=\"Concavity Mean \" )\n",
        "            concavity_se=gr.Number(label=\"Concavity SE \" )\n",
        "            concavity_worst=gr.Number(label=\"Concavity Worst \" )\n",
        "        with gr.Row():\n",
        "            concave_points_mean=gr.Number(label=\"Concave Points Mean \" )\n",
        "            concave_points_se=gr.Number(label=\"Concave Points SE \" )\n",
        "            concave_points_worst=gr.Number(label=\"Concave Points Worst \" )\n",
        "\n",
        "        with gr.Row():\n",
        "            symmetry_mean=gr.Number(label=\"Symmetry Mean\" )\n",
        "            symmetry_se=gr.Number(label=\"Symmetry SE\" )\n",
        "            symmetry_worst=gr.Number(label=\"Symmetry Worst\" )\n",
        "        with gr.Row():\n",
        "            fractal_dimension_mean=gr.Number(label=\"Fractal Dimension Mean\" )\n",
        "            fractal_dimension_se=gr.Number(label=\"Fractal Dimension SE\" )\n",
        "            fractal_dimension_worst=gr.Number(label=\"Fractal Dimension Worst\" )\n",
        "\n",
        "        text_output = gr.Textbox(label='Prediction')\n",
        "\n",
        "        xgb_button = gr.Button(\"Predict\")\n",
        "\n",
        "    with gr.Tab(\"Graph\"):\n",
        "        #dim=gr.Number(label=\"Hmdxx Min\", info=\"Choose between -50 and 50\")\n",
        "\n",
        "        plot = gr.Plot(label=\"Plot\")\n",
        "        button = gr.Radio(label=\"Metric\",\n",
        "                      choices=['Accuracy', 'Precision', 'F1','Recall'], value='scatter_plot')\n",
        "        #plot = gr.Plot(label=\"Plot\")\n",
        "        button.change(make_plot, inputs=button, outputs=[plot])\n",
        "        #graph_button.click(make_plot,inputs = [m,y],outputs=[plot])\n",
        "        #demo.load(make_plot,outputs=[plot])\n",
        "\n",
        "    xgb_button.click(calc_xgb, inputs=[radius_mean,texture_mean,perimeter_mean,area_mean,smoothness_mean,compactness_mean,concavity_mean,concave_points_mean,\n",
        "        symmetry_mean,fractal_dimension_mean,radius_se,texture_se,perimeter_se,area_se,smoothness_se,compactness_se,concavity_se,\n",
        "         concave_points_se,symmetry_se,fractal_dimension_se,radius_worst,texture_worst,perimeter_worst,area_worst,smoothness_worst,\n",
        "         compactness_worst,concavity_worst,concave_points_worst,symmetry_worst,fractal_dimension_worst], outputs=text_output)\n",
        "    #disp_button.click(r_square,  outputs=[xgb_output,rf_output,svr_output,mlr_output,lr_output,a,b,c,d,e,aa,bb,cc,dd,ee,aaa,bbb,ccc,ddd,eee])\n",
        "\n",
        "demo.launch()"
      ]
    },
    {
      "cell_type": "code",
      "execution_count": null,
      "id": "fc0f2ce8-b63e-4363-bcfb-d8b54610f242",
      "metadata": {
        "id": "fc0f2ce8-b63e-4363-bcfb-d8b54610f242"
      },
      "outputs": [],
      "source": []
    }
  ],
  "metadata": {
    "kernelspec": {
      "display_name": "Python 3",
      "name": "python3"
    },
    "language_info": {
      "codemirror_mode": {
        "name": "ipython",
        "version": 3
      },
      "file_extension": ".py",
      "mimetype": "text/x-python",
      "name": "python",
      "nbconvert_exporter": "python",
      "pygments_lexer": "ipython3",
      "version": "3.10.10"
    },
    "colab": {
      "provenance": [],
      "machine_shape": "hm",
      "gpuType": "T4"
    },
    "accelerator": "GPU"
  },
  "nbformat": 4,
  "nbformat_minor": 5
}